{
 "cells": [
  {
   "cell_type": "code",
   "execution_count": 9,
   "id": "c3757fbf",
   "metadata": {},
   "outputs": [
    {
     "name": "stderr",
     "output_type": "stream",
     "text": [
      "/Users/srandhawa/miniforge3/envs/gis/lib/python3.8/site-packages/geopandas/io/file.py:299: FutureWarning: pandas.Int64Index is deprecated and will be removed from pandas in a future version. Use pandas.Index with the appropriate dtype instead.\n",
      "  pd.Int64Index,\n",
      "/Users/srandhawa/miniforge3/envs/gis/lib/python3.8/site-packages/geopandas/io/file.py:299: FutureWarning: pandas.Int64Index is deprecated and will be removed from pandas in a future version. Use pandas.Index with the appropriate dtype instead.\n",
      "  pd.Int64Index,\n",
      "/Users/srandhawa/miniforge3/envs/gis/lib/python3.8/site-packages/geopandas/io/file.py:299: FutureWarning: pandas.Int64Index is deprecated and will be removed from pandas in a future version. Use pandas.Index with the appropriate dtype instead.\n",
      "  pd.Int64Index,\n",
      "/Users/srandhawa/miniforge3/envs/gis/lib/python3.8/site-packages/geopandas/io/file.py:299: FutureWarning: pandas.Int64Index is deprecated and will be removed from pandas in a future version. Use pandas.Index with the appropriate dtype instead.\n",
      "  pd.Int64Index,\n",
      "/Users/srandhawa/miniforge3/envs/gis/lib/python3.8/site-packages/geopandas/io/file.py:299: FutureWarning: pandas.Int64Index is deprecated and will be removed from pandas in a future version. Use pandas.Index with the appropriate dtype instead.\n",
      "  pd.Int64Index,\n",
      "/Users/srandhawa/miniforge3/envs/gis/lib/python3.8/site-packages/geopandas/io/file.py:299: FutureWarning: pandas.Int64Index is deprecated and will be removed from pandas in a future version. Use pandas.Index with the appropriate dtype instead.\n",
      "  pd.Int64Index,\n",
      "/Users/srandhawa/miniforge3/envs/gis/lib/python3.8/site-packages/geopandas/io/file.py:299: FutureWarning: pandas.Int64Index is deprecated and will be removed from pandas in a future version. Use pandas.Index with the appropriate dtype instead.\n",
      "  pd.Int64Index,\n",
      "/Users/srandhawa/miniforge3/envs/gis/lib/python3.8/site-packages/geopandas/io/file.py:299: FutureWarning: pandas.Int64Index is deprecated and will be removed from pandas in a future version. Use pandas.Index with the appropriate dtype instead.\n",
      "  pd.Int64Index,\n",
      "/Users/srandhawa/miniforge3/envs/gis/lib/python3.8/site-packages/geopandas/io/file.py:299: FutureWarning: pandas.Int64Index is deprecated and will be removed from pandas in a future version. Use pandas.Index with the appropriate dtype instead.\n",
      "  pd.Int64Index,\n",
      "/Users/srandhawa/miniforge3/envs/gis/lib/python3.8/site-packages/geopandas/io/file.py:299: FutureWarning: pandas.Int64Index is deprecated and will be removed from pandas in a future version. Use pandas.Index with the appropriate dtype instead.\n",
      "  pd.Int64Index,\n",
      "/Users/srandhawa/miniforge3/envs/gis/lib/python3.8/site-packages/geopandas/io/file.py:299: FutureWarning: pandas.Int64Index is deprecated and will be removed from pandas in a future version. Use pandas.Index with the appropriate dtype instead.\n",
      "  pd.Int64Index,\n",
      "/Users/srandhawa/miniforge3/envs/gis/lib/python3.8/site-packages/geopandas/io/file.py:299: FutureWarning: pandas.Int64Index is deprecated and will be removed from pandas in a future version. Use pandas.Index with the appropriate dtype instead.\n",
      "  pd.Int64Index,\n",
      "/Users/srandhawa/miniforge3/envs/gis/lib/python3.8/site-packages/geopandas/io/file.py:299: FutureWarning: pandas.Int64Index is deprecated and will be removed from pandas in a future version. Use pandas.Index with the appropriate dtype instead.\n",
      "  pd.Int64Index,\n"
     ]
    }
   ],
   "source": [
    "import pandas as pd\n",
    "import folium\n",
    "import geopandas as gpd\n",
    "import numpy as np\n",
    "import os\n",
    "from folium.plugins import MarkerCluster,FloatImage, Draw, MeasureControl\n",
    "\n",
    "\n",
    "#convert all shapefiles into geojsons for plotting \n",
    "\n",
    "##for centrality based visualizations (OPTION 1)\n",
    "#Specify location of greencentrality folder as datadir\n",
    "datadir = '..../..../greencentrality'\n",
    "outputdir = os.path.dirname(datadir)+ os.sep+ 'greencentralityjson'\n",
    "\n",
    "##for 15min city visualizations (OPTION 2)\n",
    "#datadir = '/Users/srandhawa/Desktop/HeiGIT/OSS4SDG/15min'\n",
    "#outputdir = os.path.dirname(datadir)+ os.sep+ '15minjson'\n",
    "\n",
    "\n",
    "EPSG = 4326\n",
    "if not os.path.exists(outputdir):\n",
    "    os.makedirs(outputdir)\n",
    "\n",
    "for item in os.listdir(datadir):\n",
    "    ##Uncomment next line for centrality visualization (OPTION 1). For (OPTION 2) comment the line below.\n",
    "    if os.path.isdir(datadir+os.sep+item):\n",
    "            streets_gpkg_file = datadir +os.sep+ item \n",
    "            outputfile = outputdir+os.sep+os.path.basename(streets_gpkg_file)[:-5]+'.geojson'\n",
    "            streets = gpd.read_file(streets_gpkg_file)\n",
    "            streets= streets.to_crs(epsg=EPSG)\n",
    "            streets = streets.fillna(value=0)\n",
    "            streets.to_file(outputfile, driver='GeoJSON')\n",
    "\n",
    "\n",
    "\n"
   ]
  },
  {
   "cell_type": "code",
   "execution_count": 4,
   "id": "74d1dc50",
   "metadata": {},
   "outputs": [
    {
     "data": {
      "text/plain": [
       "['.DS_Store', '15mc_index.gpkg', 'bc_15mc_index.gpkg']"
      ]
     },
     "execution_count": 4,
     "metadata": {},
     "output_type": "execute_result"
    }
   ],
   "source": [
    "os.listdir(datadir)\n"
   ]
  },
  {
   "cell_type": "code",
   "execution_count": null,
   "id": "6ebcda53",
   "metadata": {},
   "outputs": [],
   "source": []
  }
 ],
 "metadata": {
  "kernelspec": {
   "display_name": "Python 3 (ipykernel)",
   "language": "python",
   "name": "python3"
  },
  "language_info": {
   "codemirror_mode": {
    "name": "ipython",
    "version": 3
   },
   "file_extension": ".py",
   "mimetype": "text/x-python",
   "name": "python",
   "nbconvert_exporter": "python",
   "pygments_lexer": "ipython3",
   "version": "3.8.13"
  }
 },
 "nbformat": 4,
 "nbformat_minor": 5
}
